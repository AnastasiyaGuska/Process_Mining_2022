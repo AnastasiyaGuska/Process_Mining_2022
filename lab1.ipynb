{
 "cells": [
  {
   "cell_type": "markdown",
   "metadata": {},
   "source": [
    "Lab 1"
   ]
  },
  {
   "cell_type": "markdown",
   "metadata": {},
   "source": [
    "Exercise 1"
   ]
  },
  {
   "cell_type": "code",
   "execution_count": 29,
   "metadata": {},
   "outputs": [
    {
     "name": "stdout",
     "output_type": "stream",
     "text": [
      "A\n",
      "B\n",
      "C\n"
     ]
    }
   ],
   "source": [
    "#Create_arbitrarylist\n",
    "def f(a, *arguments):\n",
    "    print(a)\n",
    "    for arg in arguments:\n",
    "        print(arg)\n",
    "f(\"A\", \"B\", \"C\")"
   ]
  },
  {
   "cell_type": "code",
   "execution_count": 30,
   "metadata": {},
   "outputs": [
    {
     "name": "stdout",
     "output_type": "stream",
     "text": [
      "()\n",
      "(1, 2, 3)\n",
      "(1, 'Hello', 3.4)\n",
      "('mouse', [8, 4, 6], (1, 2, 3))\n"
     ]
    }
   ],
   "source": [
    "#Create_tuple\n",
    "my_tuple = ()\n",
    "print(my_tuple)\n",
    "\n",
    "# Tuple having integers\n",
    "my_tuple = (1, 2, 3)\n",
    "print(my_tuple)\n",
    "\n",
    "# tuple with mixed datatypes\n",
    "my_tuple = (1, \"Hello\", 3.4)\n",
    "print(my_tuple)\n",
    "\n",
    "# nested tuple\n",
    "my_tuple = (\"mouse\", [8, 4, 6], (1, 2, 3))\n",
    "print(my_tuple)"
   ]
  },
  {
   "cell_type": "code",
   "execution_count": 31,
   "metadata": {},
   "outputs": [
    {
     "name": "stdout",
     "output_type": "stream",
     "text": [
      "{1: 'Anastasiia', 2: 'Huska'}\n"
     ]
    }
   ],
   "source": [
    "#Create_dictionary\n",
    "my_dict = {1: 'Anastasiia', 2: 'Huska'}\n",
    "print(my_dict)"
   ]
  },
  {
   "cell_type": "markdown",
   "metadata": {},
   "source": [
    "Exercise 2"
   ]
  },
  {
   "cell_type": "code",
   "execution_count": 32,
   "metadata": {},
   "outputs": [
    {
     "name": "stdout",
     "output_type": "stream",
     "text": [
      "1.843923236274512\n"
     ]
    }
   ],
   "source": [
    "import numpy as np\n",
    "s = np.random.normal(0,1,100)\n",
    "print(s[9])\n"
   ]
  },
  {
   "cell_type": "code",
   "execution_count": 33,
   "metadata": {},
   "outputs": [
    {
     "name": "stdout",
     "output_type": "stream",
     "text": [
      "[ 1.84392324 -1.38326572 -0.52924537 -0.87785993  1.45120588  0.78291054\n",
      " -1.42289491  0.62933154 -1.9008668   0.40681305]\n"
     ]
    }
   ],
   "source": [
    "print(s[9:19])"
   ]
  },
  {
   "cell_type": "code",
   "execution_count": 34,
   "metadata": {},
   "outputs": [
    {
     "name": "stdout",
     "output_type": "stream",
     "text": [
      "[0.10237745 1.84392324 1.45120588 0.78291054 0.62933154 0.40681305\n",
      " 1.695816   1.49213959 2.91731236 0.64253634 0.50052693 1.03236624\n",
      " 0.13853016 1.07380664 0.51518277 0.62538889 0.37562723 0.06216382\n",
      " 1.71692706 1.45704529 1.28605944 1.6656814  1.47736961 0.96374197\n",
      " 0.88038137 0.00890096 0.71476165 0.60964703 2.08615576 1.38575649\n",
      " 0.02447816 0.34632264 0.31070178 1.15110253 1.17242023 0.17371686\n",
      " 0.67830986 2.3211682  1.26765925 1.58781417 1.37103415 0.37175975\n",
      " 0.1535945  1.34698103 0.82373922 1.29462479 1.22597905]\n"
     ]
    }
   ],
   "source": [
    "print(s[s>0])"
   ]
  },
  {
   "cell_type": "markdown",
   "metadata": {},
   "source": [
    "Exercise 3"
   ]
  },
  {
   "cell_type": "code",
   "execution_count": 35,
   "metadata": {},
   "outputs": [
    {
     "name": "stdout",
     "output_type": "stream",
     "text": [
      "4\n",
      "Power is too big\n",
      "-1\n"
     ]
    }
   ],
   "source": [
    "def mypow(base,power):\n",
    "    if power<50:\n",
    "        return base**power\n",
    "    if power>=50:\n",
    "        print (\"Power is too big\")\n",
    "        return -1\n",
    "  \n",
    "\n",
    "print(mypow(2,2))\n",
    "print(mypow(2,50))"
   ]
  },
  {
   "cell_type": "markdown",
   "metadata": {},
   "source": [
    "Exercise 4"
   ]
  },
  {
   "cell_type": "code",
   "execution_count": 36,
   "metadata": {},
   "outputs": [
    {
     "name": "stdout",
     "output_type": "stream",
     "text": [
      "11 12 13 14 15 16 17 18 19 None\n"
     ]
    }
   ],
   "source": [
    "import numpy as np\n",
    "s = np.arange(20)\n",
    "\n",
    "\n",
    "def above(x,n):\n",
    "    for i in x:\n",
    "        if x[i] > n:\n",
    "            print(x[i], end=\" \")\n",
    "            \n",
    "print(above(s, 10))"
   ]
  },
  {
   "cell_type": "markdown",
   "metadata": {},
   "source": [
    "Exercise 5"
   ]
  },
  {
   "cell_type": "code",
   "execution_count": 37,
   "metadata": {},
   "outputs": [
    {
     "name": "stdout",
     "output_type": "stream",
     "text": [
      "[10 11 12 13 14 15 16 17 18 19]\n",
      "[ 0  1  2  3  4  5  6  7  8  9 10]\n",
      "[11 12 13 14 15 16 17 18 19]\n",
      "[0 1 2 3 4 5 6 7 8 9]\n",
      "[2]\n"
     ]
    }
   ],
   "source": [
    "import numpy as np\n",
    "s = np.arange(20)\n",
    "\n",
    "def my_ifelse(x, exp, n):\n",
    "    if exp == \">\":\n",
    "       return x[x>n]\n",
    "    if exp == \"<\":\n",
    "       return x[x<n]\n",
    "    if exp == \">=\":\n",
    "       return x[x>=n]\n",
    "    if exp == \"<=\":\n",
    "       return x[x<=n]\n",
    "    if exp == \"==\":\n",
    "       return x[x==n]\n",
    "    else: return x\n",
    "\n",
    "    \n",
    "print(my_ifelse(s,\">=\",10))\n",
    "print(my_ifelse(s,\"<=\",10))\n",
    "print(my_ifelse(s,\">\",10))\n",
    "print(my_ifelse(s,\"<\",10))\n",
    "print(my_ifelse(s,\"==\",2))"
   ]
  },
  {
   "cell_type": "markdown",
   "metadata": {},
   "source": [
    "Exercise 6"
   ]
  },
  {
   "cell_type": "code",
   "execution_count": 38,
   "metadata": {},
   "outputs": [
    {
     "name": "stdout",
     "output_type": "stream",
     "text": [
      "{'U': 1, 'k': 1, 'r': 1, 'a': 1, 'i': 1, 'n': 1, 'e': 1}\n"
     ]
    }
   ],
   "source": [
    "def counter (input_string):\n",
    "    count_letters = {}\n",
    "    for letter in input_string:\n",
    "        if letter in count_letters:\n",
    "                count_letters[letter] += 1\n",
    "        else:\n",
    "            count_letters[letter] = 1\n",
    "    return count_letters\n",
    "\n",
    "print(counter(\"Ukraine\"))"
   ]
  },
  {
   "cell_type": "markdown",
   "metadata": {},
   "source": [
    "Exercise 7"
   ]
  },
  {
   "cell_type": "code",
   "execution_count": 39,
   "metadata": {},
   "outputs": [
    {
     "name": "stdout",
     "output_type": "stream",
     "text": [
      "{'U': 1, 'a': 1, 'e': 1, 'i': 1, 'k': 1, 'n': 1, 'r': 1}\n",
      "{'r': 1, 'n': 1, 'k': 1, 'i': 1, 'e': 1, 'a': 1, 'U': 1}\n"
     ]
    }
   ],
   "source": [
    "def counter_sorted (input_string,reverse):\n",
    "    a = {}\n",
    "    for letter in sorted(input_string, reverse=reverse):\n",
    "        if letter in a:\n",
    "                a[letter] += 1 \n",
    "        else:\n",
    "            a[letter] = 1\n",
    "    return a\n",
    "\n",
    "\n",
    "print(counter_sorted(\"Ukraine\",False))\n",
    "print(counter_sorted(\"Ukraine\",True))"
   ]
  }
 ],
 "metadata": {
  "kernelspec": {
   "display_name": "Python 3.9.7 ('base')",
   "language": "python",
   "name": "python3"
  },
  "language_info": {
   "codemirror_mode": {
    "name": "ipython",
    "version": 3
   },
   "file_extension": ".py",
   "mimetype": "text/x-python",
   "name": "python",
   "nbconvert_exporter": "python",
   "pygments_lexer": "ipython3",
   "version": "3.9.7"
  },
  "orig_nbformat": 4,
  "vscode": {
   "interpreter": {
    "hash": "ad2bdc8ecc057115af97d19610ffacc2b4e99fae6737bb82f5d7fb13d2f2c186"
   }
  }
 },
 "nbformat": 4,
 "nbformat_minor": 2
}
