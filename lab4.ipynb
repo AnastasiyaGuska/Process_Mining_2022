{
 "cells": [
  {
   "cell_type": "code",
   "execution_count": null,
   "metadata": {},
   "outputs": [],
   "source": [
    "Lab 4"
   ]
  },
  {
   "cell_type": "markdown",
   "metadata": {},
   "source": [
    "Question 1"
   ]
  },
  {
   "cell_type": "code",
   "execution_count": 72,
   "metadata": {},
   "outputs": [
    {
     "name": "stdout",
     "output_type": "stream",
     "text": [
      "                            F_census  M_census     F_TL     M_TL\n",
      "Region                                                          \n",
      "Autonomous Republic Crimea   1096100    937600  1044581   884420\n",
      "Cherkasy oblast               764200    638800   642121   546387\n",
      "Chernihiv oblast              679700    565500   535715   447037\n",
      "Chernivtsi oblast             490700    432100   475215   423352\n",
      "Dnipropetrovsk oblast        1924300   1643300  1724175  1449164\n",
      "Donetsk oblast               2621200   2219900  2247650  1871273\n",
      "Ivano-Frankivsk oblast        744500    665200   719570   645801\n",
      "Kharkiv oblast               1574700   1339500  1417308  1225517\n",
      "Kherson oblast                626600    548500   549870   476611\n",
      "Khmelnytskiy oblast           770800    659900   669813   581726\n",
      "Kirovohrad oblast             612200    520800   499198   427496\n",
      "Kyiv city                    1392700   1218700  1574091  1351962\n",
      "Kyiv oblast                   982000    845900   961467   813798\n",
      "Luhansk oblast               1376300   1169900  1154744   976572\n",
      "Lviv oblast                  1381400   1245100  1312114  1181600\n",
      "Mykolayiv oblast              676600    588200   600211   518936\n",
      "Odesa oblast                 1313600   1155400  1251411  1114759\n",
      "Poltava oblast                882700    747400   742254   636886\n",
      "Rivne oblast                  617700    555600   604599   547302\n",
      "Sevastopol                    206000    173500   214172   179283\n",
      "Sumy oblast                   705900    593800   576668   489387\n",
      "Ternopil oblast               612300    530200   550773   484671\n",
      "Vinnytsya oblast              652800    605500   825628   712703\n",
      "Volyn oblast                  962800    809600   542963   485730\n",
      "Zakarpattya oblast            560600    500100   649438   601520\n",
      "Zaporizhzhya oblast          1042600    886600   916499   770113\n",
      "Zhytomyr oblast               744700    644800   645844   563137\n"
     ]
    }
   ],
   "source": [
    "import pandas as pd\n",
    "\n",
    "\n",
    "df = pd.read_excel(\"ukr_growth_2020.xlsx\", header=  0, usecols = \"A:E\", index_col=0, names=[\"Region\", \"F_census\", \"M_census\", \"F_TL\", \"M_TL\", \"pgr_f\", \"pgr_m\", \"pgr_t\"])\n",
    "\n",
    "print(df)"
   ]
  },
  {
   "cell_type": "markdown",
   "metadata": {},
   "source": [
    "Question 1. Which region has the bigest female population?"
   ]
  },
  {
   "cell_type": "code",
   "execution_count": 28,
   "metadata": {},
   "outputs": [
    {
     "data": {
      "text/plain": [
       "'Donetsk oblast'"
      ]
     },
     "execution_count": 28,
     "metadata": {},
     "output_type": "execute_result"
    }
   ],
   "source": [
    "def answer_one():\n",
    "    return df[df['F_census'] == max(df['F_census'])].index[0]\n",
    "answer_one()"
   ]
  },
  {
   "cell_type": "markdown",
   "metadata": {},
   "source": [
    "Question 2: Which region has the biggest population?"
   ]
  },
  {
   "cell_type": "code",
   "execution_count": 29,
   "metadata": {},
   "outputs": [
    {
     "data": {
      "text/plain": [
       "'Donetsk oblast'"
      ]
     },
     "execution_count": 29,
     "metadata": {},
     "output_type": "execute_result"
    }
   ],
   "source": [
    "def answer_two():\n",
    "    df['val'] = abs(df['F_census']+df['M_census'])\n",
    "    return df[df['val'] == max(df['val'])].index[0]\n",
    "answer_two()"
   ]
  },
  {
   "cell_type": "markdown",
   "metadata": {},
   "source": [
    "Question 3: What is female percentage in total population?"
   ]
  },
  {
   "cell_type": "code",
   "execution_count": 31,
   "metadata": {},
   "outputs": [
    {
     "data": {
      "text/plain": [
       "Region\n",
       "Autonomous Republic Crimea    0.538968\n",
       "Cherkasy oblast               0.544690\n",
       "Chernihiv oblast              0.545856\n",
       "Chernivtsi oblast             0.531751\n",
       "Dnipropetrovsk oblast         0.539382\n",
       "Donetsk oblast                0.541447\n",
       "Ivano-Frankivsk oblast        0.528127\n",
       "Kharkiv oblast                0.540354\n",
       "Kherson oblast                0.533231\n",
       "Khmelnytskiy oblast           0.538757\n",
       "Kirovohrad oblast             0.540335\n",
       "Kyiv city                     0.533315\n",
       "Kyiv oblast                   0.537229\n",
       "Luhansk oblast                0.540531\n",
       "Lviv oblast                   0.525947\n",
       "Mykolayiv oblast              0.534946\n",
       "Odesa oblast                  0.532037\n",
       "Poltava oblast                0.541501\n",
       "Rivne oblast                  0.526464\n",
       "Sevastopol                    0.542819\n",
       "Sumy oblast                   0.543125\n",
       "Ternopil oblast               0.535930\n",
       "Vinnytsya oblast              0.518795\n",
       "Volyn oblast                  0.543218\n",
       "Zakarpattya oblast            0.528519\n",
       "Zaporizhzhya oblast           0.540431\n",
       "Zhytomyr oblast               0.535948\n",
       "Name: prt, dtype: float64"
      ]
     },
     "execution_count": 31,
     "metadata": {},
     "output_type": "execute_result"
    }
   ],
   "source": [
    "def answer_three():\n",
    "    df['val'] = abs(df['F_census']+df['M_census'])\n",
    "    df['prt'] = df['F_census']/df['val']\n",
    "    return df['prt']\n",
    "answer_three()"
   ]
  },
  {
   "cell_type": "markdown",
   "metadata": {},
   "source": [
    "Question 4: What is the average score of male population?"
   ]
  },
  {
   "cell_type": "code",
   "execution_count": 48,
   "metadata": {},
   "outputs": [
    {
     "data": {
      "text/plain": [
       "Region\n",
       "Autonomous Republic Crimea    831162.962963\n",
       "Cherkasy oblast               831162.962963\n",
       "Chernihiv oblast              831162.962963\n",
       "Chernivtsi oblast             831162.962963\n",
       "Dnipropetrovsk oblast         831162.962963\n",
       "Donetsk oblast                831162.962963\n",
       "Ivano-Frankivsk oblast        831162.962963\n",
       "Kharkiv oblast                831162.962963\n",
       "Kherson oblast                831162.962963\n",
       "Khmelnytskiy oblast           831162.962963\n",
       "Kirovohrad oblast             831162.962963\n",
       "Kyiv city                     831162.962963\n",
       "Kyiv oblast                   831162.962963\n",
       "Luhansk oblast                831162.962963\n",
       "Lviv oblast                   831162.962963\n",
       "Mykolayiv oblast              831162.962963\n",
       "Odesa oblast                  831162.962963\n",
       "Poltava oblast                831162.962963\n",
       "Rivne oblast                  831162.962963\n",
       "Sevastopol                    831162.962963\n",
       "Sumy oblast                   831162.962963\n",
       "Ternopil oblast               831162.962963\n",
       "Vinnytsya oblast              831162.962963\n",
       "Volyn oblast                  831162.962963\n",
       "Zakarpattya oblast            831162.962963\n",
       "Zaporizhzhya oblast           831162.962963\n",
       "Zhytomyr oblast               831162.962963\n",
       "Name: avr, dtype: float64"
      ]
     },
     "execution_count": 48,
     "metadata": {},
     "output_type": "execute_result"
    }
   ],
   "source": [
    "def answer_four():\n",
    "    df['avr'] = df['M_census'].mean(axis = 0, skipna = False)\n",
    "    return(df['avr'])\n",
    "answer_four()"
   ]
  },
  {
   "cell_type": "markdown",
   "metadata": {},
   "source": [
    "Question 5 - Horizontal bar of population by regions"
   ]
  },
  {
   "cell_type": "code",
   "execution_count": 73,
   "metadata": {},
   "outputs": [
    {
     "data": {
      "text/plain": [
       "<AxesSubplot:title={'center':'Ukrainian population by Regions in 2020'}, ylabel='Region'>"
      ]
     },
     "execution_count": 73,
     "metadata": {},
     "output_type": "execute_result"
    },
    {
     "data": {
      "image/png": "[encoded data removed]",
      "text/plain": [
       "<Figure size 432x288 with 1 Axes>"
      ]
     },
     "metadata": {
      "needs_background": "light"
     },
     "output_type": "display_data"
    }
   ],
   "source": [
    "import matplotlib.pyplot as plot\n",
    "\n",
    "new=df\n",
    "\n",
    "dframe=pd.DataFrame(data=new)\n",
    "df.plot.barh(title=\"Ukrainian population by Regions in 2020\")"
   ]
  }
 ],
 "metadata": {
  "kernelspec": {
   "display_name": "Python 3.9.7 ('base')",
   "language": "python",
   "name": "python3"
  },
  "language_info": {
   "codemirror_mode": {
    "name": "ipython",
    "version": 3
   },
   "file_extension": ".py",
   "mimetype": "text/x-python",
   "name": "python",
   "nbconvert_exporter": "python",
   "pygments_lexer": "ipython3",
   "version": "3.9.7"
  },
  "orig_nbformat": 4,
  "vscode": {
   "interpreter": {
    "hash": "ad2bdc8ecc057115af97d19610ffacc2b4e99fae6737bb82f5d7fb13d2f2c186"
   }
  }
 },
 "nbformat": 4,
 "nbformat_minor": 2
}
